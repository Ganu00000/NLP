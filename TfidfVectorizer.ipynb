{
 "cells": [
  {
   "cell_type": "code",
   "execution_count": 1,
   "id": "9e18cc7b",
   "metadata": {},
   "outputs": [],
   "source": [
    "import nltk\n",
    "from nltk.stem import PorterStemmer\n",
    "from nltk.stem import WordNetLemmatizer"
   ]
  },
  {
   "cell_type": "code",
   "execution_count": 2,
   "id": "178a3d81",
   "metadata": {},
   "outputs": [],
   "source": [
    "paragraph=\"There are a lot of things that I love about Hyderabad. But before I say anything, thanks for coming here. It’s a real pleasure sharing the stage with you. We are big fans of your work. So, thanks for coming. The moment you talk about Hyderabad, you know, biryani is the first thing that people talk about. And, when I started playing cricket, when I was playing first class cricket, I think it was 2000 and we had a game over here. So, that was my first introduction to the Hyderabadi biryani. And after that, whenever we have come here, biryani is something that’s, we can’t really miss. Of course, we come here for cricket, but Biryani is something that we can’t miss along with the food. I feel the cuisine over here is great. Uh, another thing that I like is the biscuits, the bakery biscuits from here, they are fantastic. And along with it, it has its own specialties, the bangles for the ladies. So, I picked a few for my wife. But, also we have got very good support over here. As an Indian cricket team, whenever we come here, the people, they come out, they support us, and we have got a very good record in Hyderabad. You know, we have done very well as a cricket team, so it feels good to be here. It’s a pleasure being here. Thanks to all of you, you know, for coming over here and giving me a very warm reception.\""
   ]
  },
  {
   "cell_type": "code",
   "execution_count": 3,
   "id": "8a585eb0",
   "metadata": {},
   "outputs": [
    {
     "data": {
      "text/plain": [
       "'There are a lot of things that I love about Hyderabad. But before I say anything, thanks for coming here. It’s a real pleasure sharing the stage with you. We are big fans of your work. So, thanks for coming. The moment you talk about Hyderabad, you know, biryani is the first thing that people talk about. And, when I started playing cricket, when I was playing first class cricket, I think it was 2000 and we had a game over here. So, that was my first introduction to the Hyderabadi biryani. And after that, whenever we have come here, biryani is something that’s, we can’t really miss. Of course, we come here for cricket, but Biryani is something that we can’t miss along with the food. I feel the cuisine over here is great. Uh, another thing that I like is the biscuits, the bakery biscuits from here, they are fantastic. And along with it, it has its own specialties, the bangles for the ladies. So, I picked a few for my wife. But, also we have got very good support over here. As an Indian cricket team, whenever we come here, the people, they come out, they support us, and we have got a very good record in Hyderabad. You know, we have done very well as a cricket team, so it feels good to be here. It’s a pleasure being here. Thanks to all of you, you know, for coming over here and giving me a very warm reception.'"
      ]
     },
     "execution_count": 3,
     "metadata": {},
     "output_type": "execute_result"
    }
   ],
   "source": [
    "paragraph"
   ]
  },
  {
   "cell_type": "code",
   "execution_count": 4,
   "id": "ef09ca75",
   "metadata": {},
   "outputs": [],
   "source": [
    "sentences=nltk.sent_tokenize(paragraph)"
   ]
  },
  {
   "cell_type": "code",
   "execution_count": 5,
   "id": "fd59a117",
   "metadata": {},
   "outputs": [
    {
     "data": {
      "text/plain": [
       "['There are a lot of things that I love about Hyderabad.',\n",
       " 'But before I say anything, thanks for coming here.',\n",
       " 'It’s a real pleasure sharing the stage with you.',\n",
       " 'We are big fans of your work.',\n",
       " 'So, thanks for coming.',\n",
       " 'The moment you talk about Hyderabad, you know, biryani is the first thing that people talk about.',\n",
       " 'And, when I started playing cricket, when I was playing first class cricket, I think it was 2000 and we had a game over here.',\n",
       " 'So, that was my first introduction to the Hyderabadi biryani.',\n",
       " 'And after that, whenever we have come here, biryani is something that’s, we can’t really miss.',\n",
       " 'Of course, we come here for cricket, but Biryani is something that we can’t miss along with the food.',\n",
       " 'I feel the cuisine over here is great.',\n",
       " 'Uh, another thing that I like is the biscuits, the bakery biscuits from here, they are fantastic.',\n",
       " 'And along with it, it has its own specialties, the bangles for the ladies.',\n",
       " 'So, I picked a few for my wife.',\n",
       " 'But, also we have got very good support over here.',\n",
       " 'As an Indian cricket team, whenever we come here, the people, they come out, they support us, and we have got a very good record in Hyderabad.',\n",
       " 'You know, we have done very well as a cricket team, so it feels good to be here.',\n",
       " 'It’s a pleasure being here.',\n",
       " 'Thanks to all of you, you know, for coming over here and giving me a very warm reception.']"
      ]
     },
     "execution_count": 5,
     "metadata": {},
     "output_type": "execute_result"
    }
   ],
   "source": [
    "sentences"
   ]
  },
  {
   "cell_type": "code",
   "execution_count": 6,
   "id": "88ec3cb5",
   "metadata": {},
   "outputs": [],
   "source": [
    "from nltk.corpus import stopwords"
   ]
  },
  {
   "cell_type": "code",
   "execution_count": 12,
   "id": "dfc5488b",
   "metadata": {},
   "outputs": [],
   "source": [
    "import re"
   ]
  },
  {
   "cell_type": "code",
   "execution_count": 9,
   "id": "e667a184",
   "metadata": {},
   "outputs": [],
   "source": [
    "stemmer=PorterStemmer()\n",
    "lemmatizer=WordNetLemmatizer()"
   ]
  },
  {
   "cell_type": "code",
   "execution_count": 13,
   "id": "4f3b32a7",
   "metadata": {},
   "outputs": [],
   "source": [
    "sentences_=[]\n",
    "for x in sentences:\n",
    "    sent=re.sub(\"[^a-zA-Z]\",\" \",x)\n",
    "    words=nltk.word_tokenize(sent)\n",
    "    words=[lemmatizer.lemmatize(word) for word in words if word not in stopwords.words(\"english\")]\n",
    "    sentences_.append(\" \".join(words))"
   ]
  },
  {
   "cell_type": "code",
   "execution_count": 14,
   "id": "92ee584e",
   "metadata": {},
   "outputs": [
    {
     "data": {
      "text/plain": [
       "['There lot thing I love Hyderabad',\n",
       " 'But I say anything thanks coming',\n",
       " 'It real pleasure sharing stage',\n",
       " 'We big fan work',\n",
       " 'So thanks coming',\n",
       " 'The moment talk Hyderabad know biryani first thing people talk',\n",
       " 'And I started playing cricket I playing first class cricket I think game',\n",
       " 'So first introduction Hyderabadi biryani',\n",
       " 'And whenever come biryani something really miss',\n",
       " 'Of course come cricket Biryani something miss along food',\n",
       " 'I feel cuisine great',\n",
       " 'Uh another thing I like biscuit bakery biscuit fantastic',\n",
       " 'And along specialty bangle lady',\n",
       " 'So I picked wife',\n",
       " 'But also got good support',\n",
       " 'As Indian cricket team whenever come people come support u got good record Hyderabad',\n",
       " 'You know done well cricket team feel good',\n",
       " 'It pleasure',\n",
       " 'Thanks know coming giving warm reception']"
      ]
     },
     "execution_count": 14,
     "metadata": {},
     "output_type": "execute_result"
    }
   ],
   "source": [
    "sentences_"
   ]
  },
  {
   "cell_type": "code",
   "execution_count": 20,
   "id": "94d6d975",
   "metadata": {},
   "outputs": [],
   "source": [
    "from sklearn.feature_extraction.text import TfidfVectorizer"
   ]
  },
  {
   "cell_type": "code",
   "execution_count": 21,
   "id": "6765fd62",
   "metadata": {},
   "outputs": [],
   "source": [
    "vectorizer=TfidfVectorizer()"
   ]
  },
  {
   "cell_type": "code",
   "execution_count": 22,
   "id": "0c44d7c7",
   "metadata": {},
   "outputs": [],
   "source": [
    "x=vectorizer.fit_transform(sentences_)"
   ]
  },
  {
   "cell_type": "code",
   "execution_count": 25,
   "id": "03ba5a22",
   "metadata": {},
   "outputs": [
    {
     "data": {
      "text/plain": [
       "array([[0.        , 0.        , 0.        , ..., 0.        , 0.        ,\n",
       "        0.        ],\n",
       "       [0.        , 0.        , 0.        , ..., 0.        , 0.        ,\n",
       "        0.        ],\n",
       "       [0.        , 0.        , 0.        , ..., 0.        , 0.        ,\n",
       "        0.        ],\n",
       "       ...,\n",
       "       [0.        , 0.        , 0.        , ..., 0.        , 0.        ,\n",
       "        0.39810255],\n",
       "       [0.        , 0.        , 0.        , ..., 0.        , 0.        ,\n",
       "        0.        ],\n",
       "       [0.        , 0.        , 0.        , ..., 0.        , 0.        ,\n",
       "        0.        ]])"
      ]
     },
     "execution_count": 25,
     "metadata": {},
     "output_type": "execute_result"
    }
   ],
   "source": [
    "x.toarray()"
   ]
  },
  {
   "cell_type": "code",
   "execution_count": null,
   "id": "6c691b49",
   "metadata": {},
   "outputs": [],
   "source": []
  }
 ],
 "metadata": {
  "kernelspec": {
   "display_name": "Python 3 (ipykernel)",
   "language": "python",
   "name": "python3"
  },
  "language_info": {
   "codemirror_mode": {
    "name": "ipython",
    "version": 3
   },
   "file_extension": ".py",
   "mimetype": "text/x-python",
   "name": "python",
   "nbconvert_exporter": "python",
   "pygments_lexer": "ipython3",
   "version": "3.9.7"
  }
 },
 "nbformat": 4,
 "nbformat_minor": 5
}
