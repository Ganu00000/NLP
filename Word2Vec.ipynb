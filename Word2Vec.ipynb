{
 "cells": [
  {
   "cell_type": "code",
   "execution_count": 1,
   "id": "5d00c893",
   "metadata": {},
   "outputs": [
    {
     "name": "stderr",
     "output_type": "stream",
     "text": [
      "C:\\Users\\GaneshSah\\anaconda3\\lib\\site-packages\\gensim\\utils.py:1197: UserWarning: detected Windows; aliasing chunkize to chunkize_serial\n",
      "  warnings.warn(\"detected Windows; aliasing chunkize to chunkize_serial\")\n"
     ]
    }
   ],
   "source": [
    "import nltk\n",
    "from nltk.stem import PorterStemmer\n",
    "from nltk.stem import WordNetLemmatizer\n",
    "from gensim.models import Word2Vec"
   ]
  },
  {
   "cell_type": "code",
   "execution_count": 2,
   "id": "ab58b782",
   "metadata": {},
   "outputs": [],
   "source": [
    "paragraph=\"There are a lot of things that I love about Hyderabad. But before I say anything, thanks for coming here. It’s a real pleasure sharing the stage with you. We are big fans of your work. So, thanks for coming. The moment you talk about Hyderabad, you know, biryani is the first thing that people talk about. And, when I started playing cricket, when I was playing first class cricket, I think it was 2000 and we had a game over here. So, that was my first introduction to the Hyderabadi biryani. And after that, whenever we have come here, biryani is something that’s, we can’t really miss. Of course, we come here for cricket, but Biryani is something that we can’t miss along with the food. I feel the cuisine over here is great. Uh, another thing that I like is the biscuits, the bakery biscuits from here, they are fantastic. And along with it, it has its own specialties, the bangles for the ladies. So, I picked a few for my wife. But, also we have got very good support over here. As an Indian cricket team, whenever we come here, the people, they come out, they support us, and we have got a very good record in Hyderabad. You know, we have done very well as a cricket team, so it feels good to be here. It’s a pleasure being here. Thanks to all of you, you know, for coming over here and giving me a very warm reception.\""
   ]
  },
  {
   "cell_type": "code",
   "execution_count": 3,
   "id": "e57f19d1",
   "metadata": {},
   "outputs": [
    {
     "data": {
      "text/plain": [
       "'There are a lot of things that I love about Hyderabad. But before I say anything, thanks for coming here. It’s a real pleasure sharing the stage with you. We are big fans of your work. So, thanks for coming. The moment you talk about Hyderabad, you know, biryani is the first thing that people talk about. And, when I started playing cricket, when I was playing first class cricket, I think it was 2000 and we had a game over here. So, that was my first introduction to the Hyderabadi biryani. And after that, whenever we have come here, biryani is something that’s, we can’t really miss. Of course, we come here for cricket, but Biryani is something that we can’t miss along with the food. I feel the cuisine over here is great. Uh, another thing that I like is the biscuits, the bakery biscuits from here, they are fantastic. And along with it, it has its own specialties, the bangles for the ladies. So, I picked a few for my wife. But, also we have got very good support over here. As an Indian cricket team, whenever we come here, the people, they come out, they support us, and we have got a very good record in Hyderabad. You know, we have done very well as a cricket team, so it feels good to be here. It’s a pleasure being here. Thanks to all of you, you know, for coming over here and giving me a very warm reception.'"
      ]
     },
     "execution_count": 3,
     "metadata": {},
     "output_type": "execute_result"
    }
   ],
   "source": [
    "paragraph"
   ]
  },
  {
   "cell_type": "code",
   "execution_count": 4,
   "id": "a8ece83e",
   "metadata": {},
   "outputs": [],
   "source": [
    "sentences=nltk.sent_tokenize(paragraph)"
   ]
  },
  {
   "cell_type": "code",
   "execution_count": 5,
   "id": "fa8f812f",
   "metadata": {},
   "outputs": [],
   "source": [
    "import re \n",
    "from nltk.corpus import stopwords"
   ]
  },
  {
   "cell_type": "code",
   "execution_count": 6,
   "id": "ca42a5f8",
   "metadata": {},
   "outputs": [],
   "source": [
    "stemmer=PorterStemmer()\n",
    "lemmatizer=WordNetLemmatizer()\n",
    "filtered_sentences=[]\n",
    "for x in sentences:\n",
    "    sent=re.sub(\"[^a-zA-Z]\", \" \",x)\n",
    "    words=nltk.word_tokenize(sent.lower())\n",
    "    words=[lemmatizer.lemmatize(word) for word in words if word not in stopwords.words(\"english\")]\n",
    "    filtered_sentences.append(\" \".join(words))"
   ]
  },
  {
   "cell_type": "code",
   "execution_count": 7,
   "id": "f01fcc93",
   "metadata": {},
   "outputs": [
    {
     "data": {
      "text/plain": [
       "['There are a lot of things that I love about Hyderabad.',\n",
       " 'But before I say anything, thanks for coming here.',\n",
       " 'It’s a real pleasure sharing the stage with you.',\n",
       " 'We are big fans of your work.',\n",
       " 'So, thanks for coming.',\n",
       " 'The moment you talk about Hyderabad, you know, biryani is the first thing that people talk about.',\n",
       " 'And, when I started playing cricket, when I was playing first class cricket, I think it was 2000 and we had a game over here.',\n",
       " 'So, that was my first introduction to the Hyderabadi biryani.',\n",
       " 'And after that, whenever we have come here, biryani is something that’s, we can’t really miss.',\n",
       " 'Of course, we come here for cricket, but Biryani is something that we can’t miss along with the food.',\n",
       " 'I feel the cuisine over here is great.',\n",
       " 'Uh, another thing that I like is the biscuits, the bakery biscuits from here, they are fantastic.',\n",
       " 'And along with it, it has its own specialties, the bangles for the ladies.',\n",
       " 'So, I picked a few for my wife.',\n",
       " 'But, also we have got very good support over here.',\n",
       " 'As an Indian cricket team, whenever we come here, the people, they come out, they support us, and we have got a very good record in Hyderabad.',\n",
       " 'You know, we have done very well as a cricket team, so it feels good to be here.',\n",
       " 'It’s a pleasure being here.',\n",
       " 'Thanks to all of you, you know, for coming over here and giving me a very warm reception.']"
      ]
     },
     "execution_count": 7,
     "metadata": {},
     "output_type": "execute_result"
    }
   ],
   "source": [
    "sentences"
   ]
  },
  {
   "cell_type": "code",
   "execution_count": 15,
   "id": "800eb0c4",
   "metadata": {},
   "outputs": [
    {
     "data": {
      "text/plain": [
       "['lot thing love hyderabad',\n",
       " 'say anything thanks coming',\n",
       " 'real pleasure sharing stage',\n",
       " 'big fan work',\n",
       " 'thanks coming',\n",
       " 'moment talk hyderabad know biryani first thing people talk',\n",
       " 'started playing cricket playing first class cricket think game',\n",
       " 'first introduction hyderabadi biryani',\n",
       " 'whenever come biryani something really miss',\n",
       " 'course come cricket biryani something miss along food',\n",
       " 'feel cuisine great',\n",
       " 'uh another thing like biscuit bakery biscuit fantastic',\n",
       " 'along specialty bangle lady',\n",
       " 'picked wife',\n",
       " 'also got good support',\n",
       " 'indian cricket team whenever come people come support u got good record hyderabad',\n",
       " 'know done well cricket team feel good',\n",
       " 'pleasure',\n",
       " 'thanks know coming giving warm reception']"
      ]
     },
     "execution_count": 15,
     "metadata": {},
     "output_type": "execute_result"
    }
   ],
   "source": [
    "filtered_sentences"
   ]
  },
  {
   "cell_type": "code",
   "execution_count": 16,
   "id": "73f4a098",
   "metadata": {},
   "outputs": [],
   "source": [
    "sentences_=[]\n",
    "for sent in filtered_sentences:\n",
    "    sentences_.append(sent.split(\" \"))"
   ]
  },
  {
   "cell_type": "code",
   "execution_count": 17,
   "id": "0ee7778e",
   "metadata": {},
   "outputs": [
    {
     "data": {
      "text/plain": [
       "[['lot', 'thing', 'love', 'hyderabad'],\n",
       " ['say', 'anything', 'thanks', 'coming'],\n",
       " ['real', 'pleasure', 'sharing', 'stage'],\n",
       " ['big', 'fan', 'work'],\n",
       " ['thanks', 'coming'],\n",
       " ['moment',\n",
       "  'talk',\n",
       "  'hyderabad',\n",
       "  'know',\n",
       "  'biryani',\n",
       "  'first',\n",
       "  'thing',\n",
       "  'people',\n",
       "  'talk'],\n",
       " ['started',\n",
       "  'playing',\n",
       "  'cricket',\n",
       "  'playing',\n",
       "  'first',\n",
       "  'class',\n",
       "  'cricket',\n",
       "  'think',\n",
       "  'game'],\n",
       " ['first', 'introduction', 'hyderabadi', 'biryani'],\n",
       " ['whenever', 'come', 'biryani', 'something', 'really', 'miss'],\n",
       " ['course',\n",
       "  'come',\n",
       "  'cricket',\n",
       "  'biryani',\n",
       "  'something',\n",
       "  'miss',\n",
       "  'along',\n",
       "  'food'],\n",
       " ['feel', 'cuisine', 'great'],\n",
       " ['uh',\n",
       "  'another',\n",
       "  'thing',\n",
       "  'like',\n",
       "  'biscuit',\n",
       "  'bakery',\n",
       "  'biscuit',\n",
       "  'fantastic'],\n",
       " ['along', 'specialty', 'bangle', 'lady'],\n",
       " ['picked', 'wife'],\n",
       " ['also', 'got', 'good', 'support'],\n",
       " ['indian',\n",
       "  'cricket',\n",
       "  'team',\n",
       "  'whenever',\n",
       "  'come',\n",
       "  'people',\n",
       "  'come',\n",
       "  'support',\n",
       "  'u',\n",
       "  'got',\n",
       "  'good',\n",
       "  'record',\n",
       "  'hyderabad'],\n",
       " ['know', 'done', 'well', 'cricket', 'team', 'feel', 'good'],\n",
       " ['pleasure'],\n",
       " ['thanks', 'know', 'coming', 'giving', 'warm', 'reception']]"
      ]
     },
     "execution_count": 17,
     "metadata": {},
     "output_type": "execute_result"
    }
   ],
   "source": [
    "sentences_"
   ]
  },
  {
   "cell_type": "code",
   "execution_count": 18,
   "id": "0fe7afbc",
   "metadata": {},
   "outputs": [],
   "source": [
    "model=Word2Vec(sentences_,min_count = 1)"
   ]
  },
  {
   "cell_type": "code",
   "execution_count": 20,
   "id": "89266e1f",
   "metadata": {},
   "outputs": [
    {
     "data": {
      "text/plain": [
       "array([-3.3371316e-03, -8.7174884e-04,  2.1535407e-03, -1.0241286e-03,\n",
       "        4.1256361e-03,  4.1364031e-03,  1.3089328e-04,  4.6114945e-03,\n",
       "       -3.0668081e-05,  2.3176391e-03,  4.3814578e-03, -3.4821108e-03,\n",
       "       -2.9059977e-03,  1.7215320e-03,  8.0995425e-04,  1.9516095e-03,\n",
       "       -4.5556519e-03, -1.0338253e-03,  2.2665940e-03, -3.6875922e-03,\n",
       "        1.3632361e-03,  4.9281977e-03, -4.4874456e-03,  3.8173058e-04,\n",
       "       -3.5969922e-03,  4.8931828e-03, -7.4179075e-04, -2.3815611e-03,\n",
       "       -3.4882263e-03,  9.9229545e-04,  4.3256059e-03,  2.0668949e-03,\n",
       "       -1.2315050e-03,  2.1498629e-03,  2.5732657e-03,  3.6078666e-03,\n",
       "       -2.1542727e-03,  1.7752144e-03, -1.1572081e-03,  1.1755554e-03,\n",
       "        3.3207547e-03,  1.1183410e-03, -3.7548004e-03, -9.8870114e-05,\n",
       "       -1.3123540e-03,  1.5643832e-03, -3.5593924e-03, -8.8382978e-04,\n",
       "       -2.0831344e-03, -3.3575783e-03, -2.6011353e-03,  4.7734435e-04,\n",
       "        7.3397887e-04, -2.1322577e-03,  8.4789237e-05,  1.3311696e-03,\n",
       "        1.4682980e-03, -2.5587911e-03, -4.5411731e-03, -2.0478903e-03,\n",
       "       -2.9157624e-03,  3.6491619e-03, -1.2984815e-03,  4.7827270e-03,\n",
       "        1.3390762e-03,  5.5667548e-04,  4.6958174e-03,  1.3932268e-03,\n",
       "        4.6056946e-04, -3.1103758e-04, -4.1181049e-03,  2.1995858e-03,\n",
       "        4.5886869e-03,  1.4741401e-03, -2.6007860e-03, -3.7512076e-03,\n",
       "        1.5217939e-03, -5.4880387e-05, -4.2889174e-03, -1.0735651e-03,\n",
       "       -1.6512711e-03, -2.6078345e-03,  2.9741947e-03, -2.9058061e-03,\n",
       "        4.6725641e-03, -4.3436000e-03,  4.8576938e-03, -1.0057410e-03,\n",
       "        4.1696462e-03,  2.0014471e-03,  5.8751839e-04, -1.3568745e-03,\n",
       "       -1.0735963e-03,  2.0845593e-03, -2.8683147e-03,  3.7167284e-03,\n",
       "        4.4799647e-03, -5.4342639e-05,  1.6688271e-03, -1.5846834e-03],\n",
       "      dtype=float32)"
      ]
     },
     "execution_count": 20,
     "metadata": {},
     "output_type": "execute_result"
    }
   ],
   "source": [
    "model.wv[\"lot\"]"
   ]
  },
  {
   "cell_type": "code",
   "execution_count": 21,
   "id": "2112a80e",
   "metadata": {},
   "outputs": [
    {
     "data": {
      "text/plain": [
       "{'lot': <gensim.models.keyedvectors.Vocab at 0x245a88c9d00>,\n",
       " 'thing': <gensim.models.keyedvectors.Vocab at 0x245ad3b8670>,\n",
       " 'love': <gensim.models.keyedvectors.Vocab at 0x245a8882820>,\n",
       " 'hyderabad': <gensim.models.keyedvectors.Vocab at 0x245ad3c4580>,\n",
       " 'say': <gensim.models.keyedvectors.Vocab at 0x245ad3c4730>,\n",
       " 'anything': <gensim.models.keyedvectors.Vocab at 0x245ad3c4190>,\n",
       " 'thanks': <gensim.models.keyedvectors.Vocab at 0x245ad3c42e0>,\n",
       " 'coming': <gensim.models.keyedvectors.Vocab at 0x245ad3c4940>,\n",
       " 'real': <gensim.models.keyedvectors.Vocab at 0x245ad3c4040>,\n",
       " 'pleasure': <gensim.models.keyedvectors.Vocab at 0x245ad3c4280>,\n",
       " 'sharing': <gensim.models.keyedvectors.Vocab at 0x245ad3c44c0>,\n",
       " 'stage': <gensim.models.keyedvectors.Vocab at 0x245ad3c4820>,\n",
       " 'big': <gensim.models.keyedvectors.Vocab at 0x245ad3c4910>,\n",
       " 'fan': <gensim.models.keyedvectors.Vocab at 0x245ad3c4790>,\n",
       " 'work': <gensim.models.keyedvectors.Vocab at 0x245ad3c4460>,\n",
       " 'moment': <gensim.models.keyedvectors.Vocab at 0x245ad3c4100>,\n",
       " 'talk': <gensim.models.keyedvectors.Vocab at 0x245ad3c4880>,\n",
       " 'know': <gensim.models.keyedvectors.Vocab at 0x245ad3c4490>,\n",
       " 'biryani': <gensim.models.keyedvectors.Vocab at 0x245ad3c4700>,\n",
       " 'first': <gensim.models.keyedvectors.Vocab at 0x245ad3c4130>,\n",
       " 'people': <gensim.models.keyedvectors.Vocab at 0x245ad3c4610>,\n",
       " 'started': <gensim.models.keyedvectors.Vocab at 0x245ad3c4400>,\n",
       " 'playing': <gensim.models.keyedvectors.Vocab at 0x245ad3c4250>,\n",
       " 'cricket': <gensim.models.keyedvectors.Vocab at 0x245ad3c48b0>,\n",
       " 'class': <gensim.models.keyedvectors.Vocab at 0x245ad3c42b0>,\n",
       " 'think': <gensim.models.keyedvectors.Vocab at 0x245ad3c4760>,\n",
       " 'game': <gensim.models.keyedvectors.Vocab at 0x245ad3c4370>,\n",
       " 'introduction': <gensim.models.keyedvectors.Vocab at 0x245ad3c4430>,\n",
       " 'hyderabadi': <gensim.models.keyedvectors.Vocab at 0x245ad3c4220>,\n",
       " 'whenever': <gensim.models.keyedvectors.Vocab at 0x245ad3c4a00>,\n",
       " 'come': <gensim.models.keyedvectors.Vocab at 0x245ad3c4ac0>,\n",
       " 'something': <gensim.models.keyedvectors.Vocab at 0x245ad3c4b20>,\n",
       " 'really': <gensim.models.keyedvectors.Vocab at 0x245ad3c4b80>,\n",
       " 'miss': <gensim.models.keyedvectors.Vocab at 0x245ad3c4be0>,\n",
       " 'course': <gensim.models.keyedvectors.Vocab at 0x245ad3c4c40>,\n",
       " 'along': <gensim.models.keyedvectors.Vocab at 0x245ad3c4ca0>,\n",
       " 'food': <gensim.models.keyedvectors.Vocab at 0x245ad3c4d00>,\n",
       " 'feel': <gensim.models.keyedvectors.Vocab at 0x245ad3c4d60>,\n",
       " 'cuisine': <gensim.models.keyedvectors.Vocab at 0x245ad3c4dc0>,\n",
       " 'great': <gensim.models.keyedvectors.Vocab at 0x245ad3c4e20>,\n",
       " 'uh': <gensim.models.keyedvectors.Vocab at 0x245ad3c4e80>,\n",
       " 'another': <gensim.models.keyedvectors.Vocab at 0x245ad3c4ee0>,\n",
       " 'like': <gensim.models.keyedvectors.Vocab at 0x245ad3c4f40>,\n",
       " 'biscuit': <gensim.models.keyedvectors.Vocab at 0x245ad3c4fa0>,\n",
       " 'bakery': <gensim.models.keyedvectors.Vocab at 0x245aef81040>,\n",
       " 'fantastic': <gensim.models.keyedvectors.Vocab at 0x245aef810a0>,\n",
       " 'specialty': <gensim.models.keyedvectors.Vocab at 0x245aef81100>,\n",
       " 'bangle': <gensim.models.keyedvectors.Vocab at 0x245aef81160>,\n",
       " 'lady': <gensim.models.keyedvectors.Vocab at 0x245aef811c0>,\n",
       " 'picked': <gensim.models.keyedvectors.Vocab at 0x245aef81220>,\n",
       " 'wife': <gensim.models.keyedvectors.Vocab at 0x245aef81280>,\n",
       " 'also': <gensim.models.keyedvectors.Vocab at 0x245aef812e0>,\n",
       " 'got': <gensim.models.keyedvectors.Vocab at 0x245aef81340>,\n",
       " 'good': <gensim.models.keyedvectors.Vocab at 0x245aef813a0>,\n",
       " 'support': <gensim.models.keyedvectors.Vocab at 0x245aef81400>,\n",
       " 'indian': <gensim.models.keyedvectors.Vocab at 0x245aef81460>,\n",
       " 'team': <gensim.models.keyedvectors.Vocab at 0x245aef814c0>,\n",
       " 'u': <gensim.models.keyedvectors.Vocab at 0x245aef81520>,\n",
       " 'record': <gensim.models.keyedvectors.Vocab at 0x245aef81580>,\n",
       " 'done': <gensim.models.keyedvectors.Vocab at 0x245aef815e0>,\n",
       " 'well': <gensim.models.keyedvectors.Vocab at 0x245aef81640>,\n",
       " 'giving': <gensim.models.keyedvectors.Vocab at 0x245aef816a0>,\n",
       " 'warm': <gensim.models.keyedvectors.Vocab at 0x245aef81700>,\n",
       " 'reception': <gensim.models.keyedvectors.Vocab at 0x245aef81760>}"
      ]
     },
     "execution_count": 21,
     "metadata": {},
     "output_type": "execute_result"
    }
   ],
   "source": [
    "model.wv.vocab"
   ]
  },
  {
   "cell_type": "code",
   "execution_count": 24,
   "id": "31e089b2",
   "metadata": {},
   "outputs": [
    {
     "data": {
      "text/plain": [
       "0.21827336702418546"
      ]
     },
     "execution_count": 24,
     "metadata": {},
     "output_type": "execute_result"
    }
   ],
   "source": [
    "model.wv.similarity(\"lot\",\"people\")"
   ]
  },
  {
   "cell_type": "code",
   "execution_count": 27,
   "id": "a366b80b",
   "metadata": {},
   "outputs": [
    {
     "data": {
      "text/plain": [
       "[('people', 0.2182733714580536),\n",
       " ('record', 0.2066137194633484),\n",
       " ('fantastic', 0.17993071675300598),\n",
       " ('lady', 0.14976052939891815),\n",
       " ('like', 0.13461092114448547),\n",
       " ('talk', 0.13031193614006042),\n",
       " ('course', 0.12153986096382141),\n",
       " ('anything', 0.10968457162380219),\n",
       " ('moment', 0.10718698799610138),\n",
       " ('food', 0.09436731040477753)]"
      ]
     },
     "execution_count": 27,
     "metadata": {},
     "output_type": "execute_result"
    }
   ],
   "source": [
    "model.wv.most_similar(\"lot\")"
   ]
  },
  {
   "cell_type": "code",
   "execution_count": null,
   "id": "38cc477e",
   "metadata": {},
   "outputs": [],
   "source": []
  },
  {
   "cell_type": "code",
   "execution_count": null,
   "id": "41306cc1",
   "metadata": {},
   "outputs": [],
   "source": []
  }
 ],
 "metadata": {
  "kernelspec": {
   "display_name": "Python 3 (ipykernel)",
   "language": "python",
   "name": "python3"
  },
  "language_info": {
   "codemirror_mode": {
    "name": "ipython",
    "version": 3
   },
   "file_extension": ".py",
   "mimetype": "text/x-python",
   "name": "python",
   "nbconvert_exporter": "python",
   "pygments_lexer": "ipython3",
   "version": "3.9.7"
  }
 },
 "nbformat": 4,
 "nbformat_minor": 5
}
