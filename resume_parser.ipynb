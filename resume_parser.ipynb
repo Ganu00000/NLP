{
 "cells": [
  {
   "cell_type": "code",
   "execution_count": 1,
   "id": "407ae064",
   "metadata": {},
   "outputs": [
    {
     "name": "stderr",
     "output_type": "stream",
     "text": [
      "C:\\Users\\GaneshSah\\anaconda3\\lib\\site-packages\\spacy\\util.py:275: UserWarning: [W031] Model 'en_training' (0.0.0) requires spaCy v2.2 and is incompatible with the current spaCy version (2.3.5). This may lead to unexpected results or runtime errors. To resolve this, download a newer compatible model or retrain your custom model with the current spaCy version. For more details and available updates, run: python -m spacy validate\n",
      "  warnings.warn(warn_msg)\n"
     ]
    }
   ],
   "source": [
    "from resume_parser import resumeparse"
   ]
  },
  {
   "cell_type": "code",
   "execution_count": 2,
   "id": "9ee4b64e",
   "metadata": {},
   "outputs": [
    {
     "name": "stderr",
     "output_type": "stream",
     "text": [
      "2022-09-01 23:11:37,641 [MainThread  ] [WARNI]  Failed to see startup log message; retrying...\n"
     ]
    }
   ],
   "source": [
    "data=resumeparse.read_file(\"Downloads\\Ganesh's Resume.pdf\")"
   ]
  },
  {
   "cell_type": "code",
   "execution_count": 3,
   "id": "c05f69ef",
   "metadata": {},
   "outputs": [
    {
     "data": {
      "text/plain": [
       "{'email': 'shahgk0000@gmail.com',\n",
       " 'phone': '6280617681',\n",
       " 'name': 'Ganesh Sah',\n",
       " 'total_exp': 0,\n",
       " 'university': ['punjab technical university'],\n",
       " 'designition': [],\n",
       " 'degree': [],\n",
       " 'skills': ['Java Python',\n",
       "  'Machine Learning',\n",
       "  'Deep Learning',\n",
       "  'Computer vision',\n",
       "  'JQuery HTML',\n",
       "  'AngularJS',\n",
       "  'JavaScript',\n",
       "  'English',\n",
       "  'Professional Working Proficiency',\n",
       "  'Hindi',\n",
       "  'Nepali',\n",
       "  'Full Professional Proficiency',\n",
       "  'Maithli'],\n",
       " 'Companies worked at': []}"
      ]
     },
     "execution_count": 3,
     "metadata": {},
     "output_type": "execute_result"
    }
   ],
   "source": [
    "data"
   ]
  },
  {
   "cell_type": "code",
   "execution_count": 7,
   "id": "c773a751",
   "metadata": {},
   "outputs": [],
   "source": [
    "from pyresparser import ResumeParser"
   ]
  },
  {
   "cell_type": "code",
   "execution_count": 8,
   "id": "61f3784d",
   "metadata": {},
   "outputs": [
    {
     "name": "stderr",
     "output_type": "stream",
     "text": [
      "C:\\Users\\GaneshSah\\anaconda3\\lib\\site-packages\\spacy\\util.py:275: UserWarning: [W031] Model 'en_training' (0.0.0) requires spaCy v2.1 and is incompatible with the current spaCy version (2.3.5). This may lead to unexpected results or runtime errors. To resolve this, download a newer compatible model or retrain your custom model with the current spaCy version. For more details and available updates, run: python -m spacy validate\n",
      "  warnings.warn(warn_msg)\n"
     ]
    }
   ],
   "source": [
    "data_=ResumeParser(\"Downloads\\Ganesh's Resume.pdf\").get_extracted_data()"
   ]
  },
  {
   "cell_type": "code",
   "execution_count": 9,
   "id": "6a22feb2",
   "metadata": {},
   "outputs": [
    {
     "data": {
      "text/plain": [
       "{'name': 'Ganesh Sah',\n",
       " 'email': 'shahgk0000@gmail.com',\n",
       " 'mobile_number': '6280617681',\n",
       " 'skills': ['Research',\n",
       "  'Programming',\n",
       "  'Reports',\n",
       "  'Troubleshooting',\n",
       "  'Python',\n",
       "  'Coding',\n",
       "  'Html',\n",
       "  'Java',\n",
       "  'Technical',\n",
       "  'Javascript',\n",
       "  'English',\n",
       "  'Engineering',\n",
       "  'Ai'],\n",
       " 'college_name': None,\n",
       " 'degree': ['B. Tech IT', 'Graduation'],\n",
       " 'designation': ['Machine Learning'],\n",
       " 'experience': ['Software Developer(Intern)',\n",
       "  'BizMerlinHR Pvt. Ltd',\n",
       "  '01/2022 - 07/2022,',\n",
       "  'Achievements/Tasks',\n",
       "  '7.84 CGPA',\n",
       "  '81%',\n",
       "  '88.5%',\n",
       "  'Work with the engineering team to provide computer programming assistance in the',\n",
       "  'development of several software project.',\n",
       "  'Assist with the troubleshooting and deployment of the software projects.',\n",
       "  'Reports progress regularly to associated personnel.'],\n",
       " 'company_names': ['Listening Music', 'BizMerlinHR Pvt. Ltd'],\n",
       " 'no_of_pages': 1,\n",
       " 'total_experience': 0.0}"
      ]
     },
     "execution_count": 9,
     "metadata": {},
     "output_type": "execute_result"
    }
   ],
   "source": [
    "data_"
   ]
  },
  {
   "cell_type": "code",
   "execution_count": null,
   "id": "cabcfb63",
   "metadata": {},
   "outputs": [],
   "source": []
  }
 ],
 "metadata": {
  "kernelspec": {
   "display_name": "Python 3 (ipykernel)",
   "language": "python",
   "name": "python3"
  },
  "language_info": {
   "codemirror_mode": {
    "name": "ipython",
    "version": 3
   },
   "file_extension": ".py",
   "mimetype": "text/x-python",
   "name": "python",
   "nbconvert_exporter": "python",
   "pygments_lexer": "ipython3",
   "version": "3.9.7"
  }
 },
 "nbformat": 4,
 "nbformat_minor": 5
}
