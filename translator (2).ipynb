{
 "cells": [
  {
   "cell_type": "code",
   "execution_count": 54,
   "id": "ec7b3e38",
   "metadata": {},
   "outputs": [],
   "source": [
    "from googletrans import Translator"
   ]
  },
  {
   "cell_type": "code",
   "execution_count": 55,
   "id": "d0404f4e",
   "metadata": {},
   "outputs": [],
   "source": [
    "translator=Translator()"
   ]
  },
  {
   "cell_type": "code",
   "execution_count": 56,
   "id": "92388044",
   "metadata": {},
   "outputs": [],
   "source": [
    "dic={\n",
    "    \"Arabic\":\"ar\",\n",
    "    \"Russian\":\"ru\",\n",
    "    \"French\":\"fr\",\n",
    "    \"Indonesian\":\"id\",\n",
    "    \"Turkish\":\"tr\",\n",
    "    \"Portugese\":\"pt\",\n",
    "    \"English\":\"en\",\n",
    "    \"chinese\":\"zh-CN\",\n",
    "    \"Traditional Chinese\":\"zh-TW\",\n",
    "    \"Italish\":\"it\",\n",
    "    \"Spanish\":\"es\",\n",
    "    \"German\":\"de\"\n",
    "}"
   ]
  },
  {
   "cell_type": "code",
   "execution_count": 57,
   "id": "380ddbef",
   "metadata": {},
   "outputs": [],
   "source": [
    "text=\"hello\""
   ]
  },
  {
   "cell_type": "code",
   "execution_count": 59,
   "id": "eb2672d7",
   "metadata": {},
   "outputs": [
    {
     "name": "stdout",
     "output_type": "stream",
     "text": [
      "Arabic : أهلا\n",
      "Russian : привет\n",
      "French : salut\n",
      "Indonesian : halo\n",
      "Turkish : merhaba\n",
      "Portugese : olá\n",
      "English : hello\n",
      "chinese : 你好\n",
      "Traditional Chinese : 你好\n",
      "Italish : ciao\n",
      "Spanish : Hola\n",
      "German : hallo\n"
     ]
    }
   ],
   "source": [
    "for x in dic:\n",
    "    try:\n",
    "        result=translator.translate(text=text,src=\"en\",dest=dic[x])\n",
    "        print(x + \" : \" + result.text)\n",
    "    except:\n",
    "        continue"
   ]
  }
 ],
 "metadata": {
  "kernelspec": {
   "display_name": "Python 3 (ipykernel)",
   "language": "python",
   "name": "python3"
  },
  "language_info": {
   "codemirror_mode": {
    "name": "ipython",
    "version": 3
   },
   "file_extension": ".py",
   "mimetype": "text/x-python",
   "name": "python",
   "nbconvert_exporter": "python",
   "pygments_lexer": "ipython3",
   "version": "3.9.7"
  }
 },
 "nbformat": 4,
 "nbformat_minor": 5
}
