{
 "cells": [
  {
   "cell_type": "code",
   "execution_count": 1,
   "id": "f2904a1f",
   "metadata": {},
   "outputs": [],
   "source": [
    "import nltk\n",
    "from nltk.stem import PorterStemmer\n",
    "from nltk.stem import WordNetLemmatizer"
   ]
  },
  {
   "cell_type": "code",
   "execution_count": 2,
   "id": "cbc5e2e9",
   "metadata": {},
   "outputs": [],
   "source": [
    "paragraph=\"You have to be practical. You have to take risks in life, but at the same time, you have to be calculated. You can't just say, okay, I took a risky option at some point of time, you have to be ready with, ready for the kind of talent that's really needed to achieve what you want to achieve.\""
   ]
  },
  {
   "cell_type": "code",
   "execution_count": 3,
   "id": "65144de8",
   "metadata": {},
   "outputs": [
    {
     "data": {
      "text/plain": [
       "\"You have to be practical. You have to take risks in life, but at the same time, you have to be calculated. You can't just say, okay, I took a risky option at some point of time, you have to be ready with, ready for the kind of talent that's really needed to achieve what you want to achieve.\""
      ]
     },
     "execution_count": 3,
     "metadata": {},
     "output_type": "execute_result"
    }
   ],
   "source": [
    "paragraph"
   ]
  },
  {
   "cell_type": "code",
   "execution_count": 4,
   "id": "0d4173f7",
   "metadata": {},
   "outputs": [],
   "source": [
    "sentences = nltk.sent_tokenize(paragraph)"
   ]
  },
  {
   "cell_type": "code",
   "execution_count": 5,
   "id": "55c54286",
   "metadata": {},
   "outputs": [
    {
     "data": {
      "text/plain": [
       "['You have to be practical.',\n",
       " 'You have to take risks in life, but at the same time, you have to be calculated.',\n",
       " \"You can't just say, okay, I took a risky option at some point of time, you have to be ready with, ready for the kind of talent that's really needed to achieve what you want to achieve.\"]"
      ]
     },
     "execution_count": 5,
     "metadata": {},
     "output_type": "execute_result"
    }
   ],
   "source": [
    "sentences"
   ]
  },
  {
   "cell_type": "code",
   "execution_count": 6,
   "id": "c6193ff9",
   "metadata": {},
   "outputs": [],
   "source": [
    "words = nltk.word_tokenize(paragraph)"
   ]
  },
  {
   "cell_type": "code",
   "execution_count": 7,
   "id": "29ad4a7a",
   "metadata": {},
   "outputs": [],
   "source": [
    "stemmer = PorterStemmer()\n",
    "lemmatizer = WordNetLemmatizer()"
   ]
  },
  {
   "cell_type": "code",
   "execution_count": 8,
   "id": "34cd100a",
   "metadata": {},
   "outputs": [],
   "source": [
    "from nltk.corpus import stopwords"
   ]
  },
  {
   "cell_type": "code",
   "execution_count": 9,
   "id": "b5dd71b3",
   "metadata": {},
   "outputs": [],
   "source": [
    "from nltk import re"
   ]
  },
  {
   "cell_type": "code",
   "execution_count": 10,
   "id": "ca761d8b",
   "metadata": {},
   "outputs": [],
   "source": [
    "filtered_sentences=[]\n",
    "for x in sentences:\n",
    "    sent = re.sub(\"[^a-zA-Z]\",\" \",x)\n",
    "    words_=nltk.word_tokenize(sent)\n",
    "    words_=[lemmatizer.lemmatize(word) for word in words_ if word not in stopwords.words(\"english\")]\n",
    "    filtered_sentences.append(\" \".join(words_))\n",
    "    "
   ]
  },
  {
   "cell_type": "code",
   "execution_count": 11,
   "id": "4e6692ee",
   "metadata": {},
   "outputs": [
    {
     "data": {
      "text/plain": [
       "['You have to be practical.',\n",
       " 'You have to take risks in life, but at the same time, you have to be calculated.',\n",
       " \"You can't just say, okay, I took a risky option at some point of time, you have to be ready with, ready for the kind of talent that's really needed to achieve what you want to achieve.\"]"
      ]
     },
     "execution_count": 11,
     "metadata": {},
     "output_type": "execute_result"
    }
   ],
   "source": [
    "sentences"
   ]
  },
  {
   "cell_type": "code",
   "execution_count": 12,
   "id": "bbe8544e",
   "metadata": {},
   "outputs": [
    {
     "data": {
      "text/plain": [
       "['You practical',\n",
       " 'You take risk life time calculated',\n",
       " 'You say okay I took risky option point time ready ready kind talent really needed achieve want achieve']"
      ]
     },
     "execution_count": 12,
     "metadata": {},
     "output_type": "execute_result"
    }
   ],
   "source": [
    "filtered_sentences"
   ]
  },
  {
   "cell_type": "code",
   "execution_count": 13,
   "id": "eee7880f",
   "metadata": {},
   "outputs": [],
   "source": [
    "from sklearn.feature_extraction.text import CountVectorizer"
   ]
  },
  {
   "cell_type": "code",
   "execution_count": 14,
   "id": "52d4006a",
   "metadata": {},
   "outputs": [],
   "source": [
    "cv=CountVectorizer()"
   ]
  },
  {
   "cell_type": "code",
   "execution_count": 15,
   "id": "4608c534",
   "metadata": {},
   "outputs": [],
   "source": [
    "x=cv.fit_transform(filtered_sentences)"
   ]
  },
  {
   "cell_type": "code",
   "execution_count": 16,
   "id": "94ee994c",
   "metadata": {},
   "outputs": [
    {
     "data": {
      "text/plain": [
       "array([[0, 0, 0, 0, 0, 0, 0, 0, 1, 0, 0, 0, 0, 0, 0, 0, 0, 0, 0, 1],\n",
       "       [0, 1, 0, 1, 0, 0, 0, 0, 0, 0, 0, 1, 0, 0, 1, 0, 1, 0, 0, 1],\n",
       "       [2, 0, 1, 0, 1, 1, 1, 1, 0, 2, 1, 0, 1, 1, 0, 1, 1, 1, 1, 1]],\n",
       "      dtype=int64)"
      ]
     },
     "execution_count": 16,
     "metadata": {},
     "output_type": "execute_result"
    }
   ],
   "source": [
    "x.toarray()"
   ]
  },
  {
   "cell_type": "code",
   "execution_count": 17,
   "id": "5b2b974c",
   "metadata": {},
   "outputs": [
    {
     "data": {
      "text/plain": [
       "<3x20 sparse matrix of type '<class 'numpy.int64'>'\n",
       "\twith 23 stored elements in Compressed Sparse Row format>"
      ]
     },
     "execution_count": 17,
     "metadata": {},
     "output_type": "execute_result"
    }
   ],
   "source": [
    "x"
   ]
  },
  {
   "cell_type": "code",
   "execution_count": null,
   "id": "2b47b4e1",
   "metadata": {},
   "outputs": [],
   "source": []
  }
 ],
 "metadata": {
  "kernelspec": {
   "display_name": "Python 3 (ipykernel)",
   "language": "python",
   "name": "python3"
  },
  "language_info": {
   "codemirror_mode": {
    "name": "ipython",
    "version": 3
   },
   "file_extension": ".py",
   "mimetype": "text/x-python",
   "name": "python",
   "nbconvert_exporter": "python",
   "pygments_lexer": "ipython3",
   "version": "3.9.7"
  }
 },
 "nbformat": 4,
 "nbformat_minor": 5
}
