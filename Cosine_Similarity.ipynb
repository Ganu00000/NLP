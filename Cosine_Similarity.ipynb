{
 "cells": [
  {
   "cell_type": "code",
   "execution_count": 1,
   "id": "f21fdb9e",
   "metadata": {},
   "outputs": [],
   "source": [
    "import nltk\n",
    "from nltk.stem import PorterStemmer\n",
    "from nltk.stem import WordNetLemmatizer"
   ]
  },
  {
   "cell_type": "code",
   "execution_count": 2,
   "id": "e2533d95",
   "metadata": {},
   "outputs": [],
   "source": [
    "sentences=[\"We are looking for an outstanding Web Developer to be responsible for the coding, innovative design and layout of our website. Web developer responsibilities include building our website from concept all the way to completion from the bottom up, fashioning everything from the home page to site layout and function.\",\n",
    "          \"A web developer is a programmer responsible for turning user stories, mockups, and web designs into functional websites. They use web fundamentals such as HTML, CSS, and JavaScript to build, manage, and deploy web applications. Web developers might also use a variety of programming languages depending on your website's technology stack, including Python, PHP, and Ruby. A web developer must also ensure that the website is compatible with all devices and browsers.\",\n",
    "           \"We are seeking a front-end web developer to build new web pages and improve our company website. The right person for this role will be proficient in HTML, CSS, JavaScript, and PHP. You will be responsible for building and deploying new front-end features to our WordPress website, handling the integration of plugins such as WooCommerce, and performing routine maintenance of our site.\"\n",
    "          ]"
   ]
  },
  {
   "cell_type": "code",
   "execution_count": 3,
   "id": "e30be427",
   "metadata": {},
   "outputs": [
    {
     "data": {
      "text/plain": [
       "['We are looking for an outstanding Web Developer to be responsible for the coding, innovative design and layout of our website. Web developer responsibilities include building our website from concept all the way to completion from the bottom up, fashioning everything from the home page to site layout and function.',\n",
       " \"A web developer is a programmer responsible for turning user stories, mockups, and web designs into functional websites. They use web fundamentals such as HTML, CSS, and JavaScript to build, manage, and deploy web applications. Web developers might also use a variety of programming languages depending on your website's technology stack, including Python, PHP, and Ruby. A web developer must also ensure that the website is compatible with all devices and browsers.\",\n",
       " 'We are seeking a front-end web developer to build new web pages and improve our company website. The right person for this role will be proficient in HTML, CSS, JavaScript, and PHP. You will be responsible for building and deploying new front-end features to our WordPress website, handling the integration of plugins such as WooCommerce, and performing routine maintenance of our site.']"
      ]
     },
     "execution_count": 3,
     "metadata": {},
     "output_type": "execute_result"
    }
   ],
   "source": [
    "sentences"
   ]
  },
  {
   "cell_type": "code",
   "execution_count": 4,
   "id": "02c1b5a6",
   "metadata": {},
   "outputs": [],
   "source": [
    "stemmer=PorterStemmer()\n",
    "lemmatizer=WordNetLemmatizer()"
   ]
  },
  {
   "cell_type": "code",
   "execution_count": 5,
   "id": "0fc4a921",
   "metadata": {},
   "outputs": [],
   "source": [
    "import re\n",
    "from nltk.corpus import stopwords\n",
    "filtered_sentences=[]\n",
    "for sent in sentences:\n",
    "    se=re.sub(\"[^a-zA-Z]\",\" \",sent)\n",
    "    words=nltk.word_tokenize(se.lower())\n",
    "    words=[lemmatizer.lemmatize(word) for word in words if word not in stopwords.words(\"english\")]\n",
    "    filtered_sentences.append(\" \".join(words))"
   ]
  },
  {
   "cell_type": "code",
   "execution_count": 6,
   "id": "26b3c143",
   "metadata": {},
   "outputs": [
    {
     "data": {
      "text/plain": [
       "['looking outstanding web developer responsible coding innovative design layout website web developer responsibility include building website concept way completion bottom fashioning everything home page site layout function',\n",
       " 'web developer programmer responsible turning user story mockups web design functional website use web fundamental html cs javascript build manage deploy web application web developer might also use variety programming language depending website technology stack including python php ruby web developer must also ensure website compatible device browser',\n",
       " 'seeking front end web developer build new web page improve company website right person role proficient html cs javascript php responsible building deploying new front end feature wordpress website handling integration plugins woocommerce performing routine maintenance site']"
      ]
     },
     "execution_count": 6,
     "metadata": {},
     "output_type": "execute_result"
    }
   ],
   "source": [
    "filtered_sentences"
   ]
  },
  {
   "cell_type": "code",
   "execution_count": 7,
   "id": "6e1f9de8",
   "metadata": {},
   "outputs": [],
   "source": [
    "from sklearn.feature_extraction.text import TfidfVectorizer"
   ]
  },
  {
   "cell_type": "code",
   "execution_count": 8,
   "id": "60abf2ea",
   "metadata": {},
   "outputs": [],
   "source": [
    "vectorizer=TfidfVectorizer()"
   ]
  },
  {
   "cell_type": "code",
   "execution_count": 9,
   "id": "d222e110",
   "metadata": {},
   "outputs": [],
   "source": [
    "ar=vectorizer.fit_transform(filtered_sentences)"
   ]
  },
  {
   "cell_type": "code",
   "execution_count": 10,
   "id": "24e65e27",
   "metadata": {},
   "outputs": [],
   "source": [
    "ar=ar.toarray()"
   ]
  },
  {
   "cell_type": "code",
   "execution_count": 11,
   "id": "5edb9d74",
   "metadata": {},
   "outputs": [],
   "source": [
    "from textblob import TextBlob"
   ]
  },
  {
   "cell_type": "code",
   "execution_count": 16,
   "id": "9cf4e41f",
   "metadata": {},
   "outputs": [],
   "source": [
    "from sklearn.metrics.pairwise import cosine_similarity"
   ]
  },
  {
   "cell_type": "code",
   "execution_count": 19,
   "id": "63549e06",
   "metadata": {},
   "outputs": [
    {
     "data": {
      "text/plain": [
       "array([[1.        , 0.25005512, 0.18348821],\n",
       "       [0.25005512, 1.        , 0.23248007],\n",
       "       [0.18348821, 0.23248007, 1.        ]])"
      ]
     },
     "execution_count": 19,
     "metadata": {},
     "output_type": "execute_result"
    }
   ],
   "source": [
    "cosine_similarity(ar)"
   ]
  },
  {
   "cell_type": "code",
   "execution_count": 20,
   "id": "585fdeb8",
   "metadata": {},
   "outputs": [
    {
     "data": {
      "text/plain": [
       "3"
      ]
     },
     "execution_count": 20,
     "metadata": {},
     "output_type": "execute_result"
    }
   ],
   "source": [
    "len(filtered_sentences)"
   ]
  },
  {
   "cell_type": "code",
   "execution_count": null,
   "id": "c444fa7b",
   "metadata": {},
   "outputs": [],
   "source": []
  }
 ],
 "metadata": {
  "kernelspec": {
   "display_name": "Python 3 (ipykernel)",
   "language": "python",
   "name": "python3"
  },
  "language_info": {
   "codemirror_mode": {
    "name": "ipython",
    "version": 3
   },
   "file_extension": ".py",
   "mimetype": "text/x-python",
   "name": "python",
   "nbconvert_exporter": "python",
   "pygments_lexer": "ipython3",
   "version": "3.9.7"
  }
 },
 "nbformat": 4,
 "nbformat_minor": 5
}
