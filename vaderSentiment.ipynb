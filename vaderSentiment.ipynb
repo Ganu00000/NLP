{
 "cells": [
  {
   "cell_type": "code",
   "execution_count": 1,
   "id": "776b8e4e",
   "metadata": {},
   "outputs": [],
   "source": [
    "from vaderSentiment.vaderSentiment import SentimentIntensityAnalyzer"
   ]
  },
  {
   "cell_type": "code",
   "execution_count": 3,
   "id": "d3136fda",
   "metadata": {},
   "outputs": [],
   "source": [
    "vaderAnalyzer=SentimentIntensityAnalyzer()"
   ]
  },
  {
   "cell_type": "code",
   "execution_count": 29,
   "id": "e300a099",
   "metadata": {},
   "outputs": [
    {
     "data": {
      "text/plain": [
       "{'neg': 0.325, 'neu': 0.675, 'pos': 0.0, 'compound': -0.3412}"
      ]
     },
     "execution_count": 29,
     "metadata": {},
     "output_type": "execute_result"
    }
   ],
   "source": [
    "vaderAnalyzer.polarity_scores(\"I am not good in english\")"
   ]
  },
  {
   "cell_type": "code",
   "execution_count": 6,
   "id": "ef68c635",
   "metadata": {},
   "outputs": [],
   "source": [
    "from textblob import TextBlob"
   ]
  },
  {
   "cell_type": "code",
   "execution_count": 30,
   "id": "ac7af97d",
   "metadata": {},
   "outputs": [],
   "source": [
    "textBlobAnalyzer=TextBlob(\"I am not good in english\")"
   ]
  },
  {
   "cell_type": "code",
   "execution_count": 31,
   "id": "685744ae",
   "metadata": {},
   "outputs": [
    {
     "data": {
      "text/plain": [
       "Sentiment(polarity=-0.175, subjectivity=0.30000000000000004)"
      ]
     },
     "execution_count": 31,
     "metadata": {},
     "output_type": "execute_result"
    }
   ],
   "source": [
    "textBlobAnalyzer.sentiment"
   ]
  },
  {
   "cell_type": "code",
   "execution_count": null,
   "id": "bae03fd6",
   "metadata": {},
   "outputs": [],
   "source": []
  },
  {
   "cell_type": "code",
   "execution_count": null,
   "id": "24290181",
   "metadata": {},
   "outputs": [],
   "source": []
  },
  {
   "cell_type": "code",
   "execution_count": null,
   "id": "d2f92c96",
   "metadata": {},
   "outputs": [],
   "source": []
  },
  {
   "cell_type": "code",
   "execution_count": null,
   "id": "ec56e0c7",
   "metadata": {},
   "outputs": [],
   "source": []
  }
 ],
 "metadata": {
  "kernelspec": {
   "display_name": "Python 3 (ipykernel)",
   "language": "python",
   "name": "python3"
  },
  "language_info": {
   "codemirror_mode": {
    "name": "ipython",
    "version": 3
   },
   "file_extension": ".py",
   "mimetype": "text/x-python",
   "name": "python",
   "nbconvert_exporter": "python",
   "pygments_lexer": "ipython3",
   "version": "3.9.7"
  }
 },
 "nbformat": 4,
 "nbformat_minor": 5
}
